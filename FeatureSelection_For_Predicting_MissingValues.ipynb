{
 "cells": [
  {
   "cell_type": "code",
   "execution_count": 1,
   "metadata": {},
   "outputs": [],
   "source": [
    "from sklearn.ensemble import RandomForestClassifier\n",
    "from sklearn.model_selection import train_test_split\n",
    "from sklearn.feature_selection import SelectFromModel\n",
    "from sklearn.metrics import accuracy_score\n",
    "from sklearn.ensemble import RandomForestRegressor"
   ]
  },
  {
   "cell_type": "code",
   "execution_count": null,
   "metadata": {},
   "outputs": [],
   "source": [
    "# Create a random forest regresion\n",
    "clf = RandomForestRegressor(n_estimators=10000, random_state=0, n_jobs=-1)\n",
    "\n",
    "# Train the classifier\n",
    "clf.fit(x_train, y_train)\n",
    "features=[]\n",
    "# Print the name and gini importance of each feature\n",
    "for f in zip(columns, clf.feature_importances_):\n",
    "    features.append(f)\n",
    "features.sort(key=lambda tup: tup[1],reverse=True)\n",
    "\n",
    "features"
   ]
  },
  {
   "cell_type": "code",
   "execution_count": null,
   "metadata": {},
   "outputs": [],
   "source": [
    "#separating feature names and their values \n",
    "feature_name=[]\n",
    "feature_value=[]\n",
    "for i in features:\n",
    "    feature_name.append(i[0])\n",
    "    feature_value.append(i[1])"
   ]
  },
  {
   "cell_type": "code",
   "execution_count": null,
   "metadata": {},
   "outputs": [],
   "source": [
    "fig, ax1 = plt.subplots(figsize=(20,10))\n",
    "plt.bar(range(len(feature_value)),feature_value)\n",
    "plt.xticks(range(len(feature_name)),feature_name)\n",
    "plt.ylabel('Random Tree')\n",
    "plt.show()"
   ]
  },
  {
   "cell_type": "code",
   "execution_count": null,
   "metadata": {},
   "outputs": [],
   "source": [
    "cor=normData.corr()\n",
    "fig, ax1 = plt.subplots(figsize=(20,10))\n",
    "svm=sns.heatmap(cor,annot=True,ax=ax1)\n",
    "#figure = svm.get_figure()    \n",
    "#figure.savefig('Cor-Heatmap.png', dpi=800)\n",
    "cor"
   ]
  }
 ],
 "metadata": {
  "kernelspec": {
   "display_name": "Python 3",
   "language": "python",
   "name": "python3"
  },
  "language_info": {
   "codemirror_mode": {
    "name": "ipython",
    "version": 3
   },
   "file_extension": ".py",
   "mimetype": "text/x-python",
   "name": "python",
   "nbconvert_exporter": "python",
   "pygments_lexer": "ipython3",
   "version": "3.7.6"
  }
 },
 "nbformat": 4,
 "nbformat_minor": 4
}
