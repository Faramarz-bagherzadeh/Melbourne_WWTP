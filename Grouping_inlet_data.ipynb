{
 "cells": [
  {
   "cell_type": "code",
   "execution_count": 1,
   "metadata": {},
   "outputs": [],
   "source": [
    "import numpy as np\n",
    "import matplotlib.pyplot as plt\n",
    "import random\n",
    "import pandas as pd\n",
    "from sklearn.model_selection import train_test_split\n",
    "from sklearn.feature_selection import VarianceThreshold\n",
    "from sklearn.preprocessing import MinMaxScaler\n",
    "import seaborn as sns\n",
    "from sklearn.ensemble import RandomForestClassifier\n",
    "from sklearn.metrics import accuracy_score as acc\n",
    "from mlxtend.feature_selection import SequentialFeatureSelector as sfs\n",
    "sns.set()\n",
    "import math"
   ]
  },
  {
   "cell_type": "code",
   "execution_count": 2,
   "metadata": {},
   "outputs": [],
   "source": [
    "def Average(input_list):\n",
    "    return (sum(input_list)+0.0001)/len(input_list)"
   ]
  },
  {
   "cell_type": "code",
   "execution_count": 4,
   "metadata": {},
   "outputs": [],
   "source": [
    "data=pd.read_csv('inlet.csv')"
   ]
  },
  {
   "cell_type": "code",
   "execution_count": 5,
   "metadata": {},
   "outputs": [
    {
     "name": "stdout",
     "output_type": "stream",
     "text": [
      "RangeIndex(start=0, stop=91993, step=1)\n",
      "Index(['FID', 'recordstart', 'recordend', 'ETP_Inflow_kL_s_1'], dtype='object')\n"
     ]
    }
   ],
   "source": [
    "print(data.index)\n",
    "print(data.columns)"
   ]
  },
  {
   "cell_type": "code",
   "execution_count": 6,
   "metadata": {},
   "outputs": [],
   "source": [
    "date=pd.to_datetime(data['recordstart'])\n",
    "data['year']=date.dt.year\n",
    "data['month']=date.dt.month\n",
    "data['day']=date.dt.day"
   ]
  },
  {
   "cell_type": "code",
   "execution_count": 7,
   "metadata": {},
   "outputs": [],
   "source": [
    "data=data.dropna()"
   ]
  },
  {
   "cell_type": "code",
   "execution_count": 8,
   "metadata": {},
   "outputs": [
    {
     "data": {
      "text/plain": [
       "FID                  0\n",
       "recordstart          0\n",
       "recordend            0\n",
       "ETP_Inflow_kL_s_1    0\n",
       "year                 0\n",
       "month                0\n",
       "day                  0\n",
       "dtype: int64"
      ]
     },
     "execution_count": 8,
     "metadata": {},
     "output_type": "execute_result"
    }
   ],
   "source": [
    "data.isna().sum()"
   ]
  },
  {
   "cell_type": "code",
   "execution_count": 9,
   "metadata": {},
   "outputs": [
    {
     "data": {
      "text/html": [
       "<div>\n",
       "<style scoped>\n",
       "    .dataframe tbody tr th:only-of-type {\n",
       "        vertical-align: middle;\n",
       "    }\n",
       "\n",
       "    .dataframe tbody tr th {\n",
       "        vertical-align: top;\n",
       "    }\n",
       "\n",
       "    .dataframe thead th {\n",
       "        text-align: right;\n",
       "    }\n",
       "</style>\n",
       "<table border=\"1\" class=\"dataframe\">\n",
       "  <thead>\n",
       "    <tr style=\"text-align: right;\">\n",
       "      <th></th>\n",
       "      <th>FID</th>\n",
       "      <th>recordstart</th>\n",
       "      <th>recordend</th>\n",
       "      <th>ETP_Inflow_kL_s_1</th>\n",
       "      <th>year</th>\n",
       "      <th>month</th>\n",
       "      <th>day</th>\n",
       "    </tr>\n",
       "  </thead>\n",
       "  <tbody>\n",
       "    <tr>\n",
       "      <th>0</th>\n",
       "      <td>51</td>\n",
       "      <td>31-12-2008 12:59:59</td>\n",
       "      <td>31-12-2008 14:00:00</td>\n",
       "      <td>3.922</td>\n",
       "      <td>2008</td>\n",
       "      <td>12</td>\n",
       "      <td>31</td>\n",
       "    </tr>\n",
       "    <tr>\n",
       "      <th>1</th>\n",
       "      <td>52</td>\n",
       "      <td>31-12-2008 14:00:00</td>\n",
       "      <td>31-12-2008 15:00:00</td>\n",
       "      <td>3.633</td>\n",
       "      <td>2008</td>\n",
       "      <td>12</td>\n",
       "      <td>31</td>\n",
       "    </tr>\n",
       "    <tr>\n",
       "      <th>2</th>\n",
       "      <td>53</td>\n",
       "      <td>31-12-2008 15:00:00</td>\n",
       "      <td>31-12-2008 15:59:59</td>\n",
       "      <td>2.994</td>\n",
       "      <td>2008</td>\n",
       "      <td>12</td>\n",
       "      <td>31</td>\n",
       "    </tr>\n",
       "    <tr>\n",
       "      <th>3</th>\n",
       "      <td>54</td>\n",
       "      <td>31-12-2008 15:59:59</td>\n",
       "      <td>31-12-2008 17:00:00</td>\n",
       "      <td>2.464</td>\n",
       "      <td>2008</td>\n",
       "      <td>12</td>\n",
       "      <td>31</td>\n",
       "    </tr>\n",
       "    <tr>\n",
       "      <th>4</th>\n",
       "      <td>55</td>\n",
       "      <td>31-12-2008 17:00:00</td>\n",
       "      <td>31-12-2008 18:00:00</td>\n",
       "      <td>2.466</td>\n",
       "      <td>2008</td>\n",
       "      <td>12</td>\n",
       "      <td>31</td>\n",
       "    </tr>\n",
       "    <tr>\n",
       "      <th>5</th>\n",
       "      <td>56</td>\n",
       "      <td>31-12-2008 18:00:00</td>\n",
       "      <td>31-12-2008 18:59:59</td>\n",
       "      <td>2.456</td>\n",
       "      <td>2008</td>\n",
       "      <td>12</td>\n",
       "      <td>31</td>\n",
       "    </tr>\n",
       "    <tr>\n",
       "      <th>6</th>\n",
       "      <td>57</td>\n",
       "      <td>31-12-2008 18:59:59</td>\n",
       "      <td>31-12-2008 20:00:00</td>\n",
       "      <td>2.445</td>\n",
       "      <td>2008</td>\n",
       "      <td>12</td>\n",
       "      <td>31</td>\n",
       "    </tr>\n",
       "    <tr>\n",
       "      <th>7</th>\n",
       "      <td>58</td>\n",
       "      <td>31-12-2008 20:00:00</td>\n",
       "      <td>31-12-2008 21:00:00</td>\n",
       "      <td>2.417</td>\n",
       "      <td>2008</td>\n",
       "      <td>12</td>\n",
       "      <td>31</td>\n",
       "    </tr>\n",
       "  </tbody>\n",
       "</table>\n",
       "</div>"
      ],
      "text/plain": [
       "   FID          recordstart            recordend  ETP_Inflow_kL_s_1  year  \\\n",
       "0   51  31-12-2008 12:59:59  31-12-2008 14:00:00              3.922  2008   \n",
       "1   52  31-12-2008 14:00:00  31-12-2008 15:00:00              3.633  2008   \n",
       "2   53  31-12-2008 15:00:00  31-12-2008 15:59:59              2.994  2008   \n",
       "3   54  31-12-2008 15:59:59  31-12-2008 17:00:00              2.464  2008   \n",
       "4   55  31-12-2008 17:00:00  31-12-2008 18:00:00              2.466  2008   \n",
       "5   56  31-12-2008 18:00:00  31-12-2008 18:59:59              2.456  2008   \n",
       "6   57  31-12-2008 18:59:59  31-12-2008 20:00:00              2.445  2008   \n",
       "7   58  31-12-2008 20:00:00  31-12-2008 21:00:00              2.417  2008   \n",
       "\n",
       "   month  day  \n",
       "0     12   31  \n",
       "1     12   31  \n",
       "2     12   31  \n",
       "3     12   31  \n",
       "4     12   31  \n",
       "5     12   31  \n",
       "6     12   31  \n",
       "7     12   31  "
      ]
     },
     "execution_count": 9,
     "metadata": {},
     "output_type": "execute_result"
    }
   ],
   "source": [
    "data.head(8)"
   ]
  },
  {
   "cell_type": "code",
   "execution_count": 10,
   "metadata": {},
   "outputs": [
    {
     "data": {
      "text/html": [
       "<div>\n",
       "<style scoped>\n",
       "    .dataframe tbody tr th:only-of-type {\n",
       "        vertical-align: middle;\n",
       "    }\n",
       "\n",
       "    .dataframe tbody tr th {\n",
       "        vertical-align: top;\n",
       "    }\n",
       "\n",
       "    .dataframe thead th {\n",
       "        text-align: right;\n",
       "    }\n",
       "</style>\n",
       "<table border=\"1\" class=\"dataframe\">\n",
       "  <thead>\n",
       "    <tr style=\"text-align: right;\">\n",
       "      <th></th>\n",
       "      <th>record_date</th>\n",
       "      <th>avg_inflow</th>\n",
       "    </tr>\n",
       "  </thead>\n",
       "  <tbody>\n",
       "    <tr>\n",
       "      <th>0</th>\n",
       "      <td>NaN</td>\n",
       "      <td>NaN</td>\n",
       "    </tr>\n",
       "    <tr>\n",
       "      <th>1</th>\n",
       "      <td>NaN</td>\n",
       "      <td>NaN</td>\n",
       "    </tr>\n",
       "    <tr>\n",
       "      <th>2</th>\n",
       "      <td>NaN</td>\n",
       "      <td>NaN</td>\n",
       "    </tr>\n",
       "  </tbody>\n",
       "</table>\n",
       "</div>"
      ],
      "text/plain": [
       "  record_date avg_inflow\n",
       "0         NaN        NaN\n",
       "1         NaN        NaN\n",
       "2         NaN        NaN"
      ]
     },
     "execution_count": 10,
     "metadata": {},
     "output_type": "execute_result"
    }
   ],
   "source": [
    "#creating a new dataframe\n",
    "new_data=pd.DataFrame(columns=['record_date','avg_inflow'], index=range(50000))\n",
    "new_data.head(3)"
   ]
  },
  {
   "cell_type": "code",
   "execution_count": null,
   "metadata": {},
   "outputs": [],
   "source": []
  },
  {
   "cell_type": "code",
   "execution_count": 11,
   "metadata": {},
   "outputs": [],
   "source": [
    "# Grouping by date (day) and calculating the mean value of the group, then saving in new dataframe\n",
    "day=data.iloc[0,6]\n",
    "month=data.iloc[0,5]\n",
    "year=data.iloc[0,4]\n",
    "inflow_list=[]\n",
    "k=0\n",
    "for i in range(len(data.index)):\n",
    "    if day==data.iloc[i,6] and month==data.iloc[i,5] and year==data.iloc[i,4]:\n",
    "        inflow_list.append(data.iloc[i,3])\n",
    "        record_date=data.iloc[i,2]\n",
    "    else:\n",
    "        if len(inflow_list)==0:\n",
    "            avg_inflow=np.nan\n",
    "        else:\n",
    "            avg_inflow=Average(inflow_list)\n",
    "            \n",
    "        new_data.iloc[k,1]=avg_inflow\n",
    "        new_data.iloc[k,0] =record_date\n",
    "        k+=1\n",
    "        day=data.iloc[i,6]\n",
    "        month=data.iloc [i,5]\n",
    "        year=data.iloc[i,4]\n",
    "        inflow_list=[]\n",
    "\n",
    "\n",
    "\n"
   ]
  },
  {
   "cell_type": "code",
   "execution_count": 12,
   "metadata": {},
   "outputs": [
    {
     "data": {
      "text/plain": [
       "record_date    46177\n",
       "avg_inflow     46178\n",
       "dtype: int64"
      ]
     },
     "execution_count": 12,
     "metadata": {},
     "output_type": "execute_result"
    }
   ],
   "source": [
    "new_data.isna().sum()"
   ]
  },
  {
   "cell_type": "code",
   "execution_count": 13,
   "metadata": {},
   "outputs": [],
   "source": [
    "new_data2=new_data.dropna()"
   ]
  },
  {
   "cell_type": "code",
   "execution_count": 14,
   "metadata": {},
   "outputs": [
    {
     "data": {
      "text/plain": [
       "record_date    0\n",
       "avg_inflow     0\n",
       "dtype: int64"
      ]
     },
     "execution_count": 14,
     "metadata": {},
     "output_type": "execute_result"
    }
   ],
   "source": [
    "new_data2.isna().sum()"
   ]
  },
  {
   "cell_type": "code",
   "execution_count": 15,
   "metadata": {},
   "outputs": [
    {
     "data": {
      "text/html": [
       "<div>\n",
       "<style scoped>\n",
       "    .dataframe tbody tr th:only-of-type {\n",
       "        vertical-align: middle;\n",
       "    }\n",
       "\n",
       "    .dataframe tbody tr th {\n",
       "        vertical-align: top;\n",
       "    }\n",
       "\n",
       "    .dataframe thead th {\n",
       "        text-align: right;\n",
       "    }\n",
       "</style>\n",
       "<table border=\"1\" class=\"dataframe\">\n",
       "  <thead>\n",
       "    <tr style=\"text-align: right;\">\n",
       "      <th></th>\n",
       "      <th>record_date</th>\n",
       "      <th>avg_inflow</th>\n",
       "    </tr>\n",
       "  </thead>\n",
       "  <tbody>\n",
       "    <tr>\n",
       "      <th>0</th>\n",
       "      <td>01-01-2009 0:00:00</td>\n",
       "      <td>2.58892</td>\n",
       "    </tr>\n",
       "    <tr>\n",
       "      <th>1</th>\n",
       "      <td>02-01-2009 0:00:00</td>\n",
       "      <td>2.96118</td>\n",
       "    </tr>\n",
       "    <tr>\n",
       "      <th>2</th>\n",
       "      <td>03-01-2009 0:00:00</td>\n",
       "      <td>3.22531</td>\n",
       "    </tr>\n",
       "    <tr>\n",
       "      <th>3</th>\n",
       "      <td>04-01-2009 0:00:00</td>\n",
       "      <td>3.35409</td>\n",
       "    </tr>\n",
       "    <tr>\n",
       "      <th>4</th>\n",
       "      <td>05-01-2009 0:00:00</td>\n",
       "      <td>3.794</td>\n",
       "    </tr>\n",
       "    <tr>\n",
       "      <th>...</th>\n",
       "      <td>...</td>\n",
       "      <td>...</td>\n",
       "    </tr>\n",
       "    <tr>\n",
       "      <th>3818</th>\n",
       "      <td>26-06-2019 0:00:00</td>\n",
       "      <td>4.79809</td>\n",
       "    </tr>\n",
       "    <tr>\n",
       "      <th>3819</th>\n",
       "      <td>27-06-2019 0:00:00</td>\n",
       "      <td>4.77579</td>\n",
       "    </tr>\n",
       "    <tr>\n",
       "      <th>3820</th>\n",
       "      <td>28-06-2019 0:00:00</td>\n",
       "      <td>4.84479</td>\n",
       "    </tr>\n",
       "    <tr>\n",
       "      <th>3821</th>\n",
       "      <td>29-06-2019 0:00:00</td>\n",
       "      <td>4.95705</td>\n",
       "    </tr>\n",
       "    <tr>\n",
       "      <th>3822</th>\n",
       "      <td>30-06-2019 0:00:00</td>\n",
       "      <td>5.93653</td>\n",
       "    </tr>\n",
       "  </tbody>\n",
       "</table>\n",
       "<p>3822 rows × 2 columns</p>\n",
       "</div>"
      ],
      "text/plain": [
       "             record_date avg_inflow\n",
       "0     01-01-2009 0:00:00    2.58892\n",
       "1     02-01-2009 0:00:00    2.96118\n",
       "2     03-01-2009 0:00:00    3.22531\n",
       "3     04-01-2009 0:00:00    3.35409\n",
       "4     05-01-2009 0:00:00      3.794\n",
       "...                  ...        ...\n",
       "3818  26-06-2019 0:00:00    4.79809\n",
       "3819  27-06-2019 0:00:00    4.77579\n",
       "3820  28-06-2019 0:00:00    4.84479\n",
       "3821  29-06-2019 0:00:00    4.95705\n",
       "3822  30-06-2019 0:00:00    5.93653\n",
       "\n",
       "[3822 rows x 2 columns]"
      ]
     },
     "execution_count": 15,
     "metadata": {},
     "output_type": "execute_result"
    }
   ],
   "source": [
    "new_data2"
   ]
  },
  {
   "cell_type": "code",
   "execution_count": 16,
   "metadata": {},
   "outputs": [],
   "source": [
    "new_data2.to_csv('new_data_inlet.csv')"
   ]
  },
  {
   "cell_type": "code",
   "execution_count": null,
   "metadata": {},
   "outputs": [],
   "source": []
  }
 ],
 "metadata": {
  "kernelspec": {
   "display_name": "Python 3",
   "language": "python",
   "name": "python3"
  },
  "language_info": {
   "codemirror_mode": {
    "name": "ipython",
    "version": 3
   },
   "file_extension": ".py",
   "mimetype": "text/x-python",
   "name": "python",
   "nbconvert_exporter": "python",
   "pygments_lexer": "ipython3",
   "version": "3.7.6"
  }
 },
 "nbformat": 4,
 "nbformat_minor": 4
}
